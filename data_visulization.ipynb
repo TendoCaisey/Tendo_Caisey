{
 "cells": [
  {
   "cell_type": "code",
   "execution_count": null,
   "id": "717bbe1c",
   "metadata": {},
   "outputs": [
    {
     "ename": "",
     "evalue": "",
     "output_type": "error",
     "traceback": [
      "\u001b[1;31mThe kernel failed to start as the Python Environment 'Python 3.12.3' is no longer available. Consider selecting another kernel or refreshing the list of Python Environments."
     ]
    }
   ],
   "source": [
    "import pandas as pd\n",
    "import matplotlib.pyplot as plt\n",
    "import seaborn as sns\n",
    "\n",
    "\n",
    "df = pd.read_csv('data.csv')\n",
    "# Maxpulse\n",
    "plt.subplot(2, 2, 3)\n",
    "sns.histplot(df['Maxpulse'], bins=30, kde=True)\n",
    "plt.title('Maxpulse Distribution')\n",
    "\n",
    "# Calories\n",
    "plt.subplot(2, 2, 4)\n",
    "sns.histplot(df['Calories'], bins=30, kde=True)\n",
    "plt.title('Calories Distribution')\n",
    "\n",
    "# SCATTER PLOTS\n",
    "plt.figure(figsize=(15, 10))\n",
    "\n",
    "# Duration vs Pulse\n",
    "plt.subplot(2, 2, 1)\n",
    "sns.scatterplot(x='Duration', y='Pulse', data=df)\n",
    "plt.title('Duration vs Pulse')\n",
    "\n",
    "# Duration vs Maxpulse\n",
    "plt.subplot(2, 2, 2)\n",
    "sns.scatterplot(x='Duration', y='Maxpulse', data=df)\n",
    "plt.title('Duration vs Maxpulse')\n",
    "\n",
    "# Duration vs Calories\n",
    "plt.subplot(2, 2, 3)\n",
    "sns.scatterplot(x='Duration', y='Calories', data=df)\n",
    "plt.title('Duration vs Calories')\n",
    "\n",
    "# Pulse vs Calories\n",
    "plt.subplot(2, 2, 4)\n",
    "sns.scatterplot(x='Pulse', y='Calories', data=df)\n",
    "plt.title('Pulse vs Calories')\n",
    "\n",
    "# CORRELATION HEATMAP\n",
    "\n",
    "plt.figure(figsize=(5, 2))\n",
    "corr = df.corr(numeric_only=True)  # Incldes only numeric columns \n",
    "sns.heatmap(corr, annot=True, cmap='coolwarm', fmt='.2f')\n",
    "plt.title('Correlation Heatmap')\n",
    "plt.show()"
   ]
  }
 ],
 "metadata": {
  "kernelspec": {
   "display_name": "venv",
   "language": "python",
   "name": "python3"
  },
  "language_info": {
   "name": "python",
   "version": "3.12.3"
  }
 },
 "nbformat": 4,
 "nbformat_minor": 5
}
